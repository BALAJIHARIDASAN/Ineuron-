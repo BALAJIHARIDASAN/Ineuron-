{
 "cells": [
  {
   "cell_type": "code",
   "execution_count": 18,
   "metadata": {},
   "outputs": [
    {
     "name": "stdout",
     "output_type": "stream",
     "text": [
      "cart total: 1290\n",
      "Pay amount: 903.0\n"
     ]
    }
   ],
   "source": [
    "total_amount = 90 + 100 + 100 + 1000\n",
    "\n",
    "print(f\"cart total: {total_amount}\")\n",
    "\n",
    "if total_amount > 999:\n",
    "  price_after_discount = total_amount * 70/100\n",
    "  print(f\"Pay amount: {price_after_discount}\")\n",
    "elif total_amount <= 999 and total_amount > 499: #  999 <= price < 499\n",
    "  price_after_discount = total_amount * 80/100\n",
    "  print(f\"Pay amount: {price_after_discount}\")\n",
    "else:\n",
    "  print(f\"Pay amount: {total_amount}\")"
   ]
  },
  {
   "cell_type": "code",
   "execution_count": 19,
   "metadata": {},
   "outputs": [
    {
     "name": "stdout",
     "output_type": "stream",
     "text": [
      "cart total: 190\n",
      "Pay amount: 190\n"
     ]
    }
   ],
   "source": [
    "total_amount = 90 + 100 #+ 100 + 1000\n",
    "\n",
    "print(f\"cart total: {total_amount}\")\n",
    "\n",
    "if total_amount > 999:\n",
    "  price_after_discount = total_amount * 70/100\n",
    "  print(f\"Pay amount: {price_after_discount}\")\n",
    "elif total_amount <= 999 and total_amount > 499: #  999 <= price < 499\n",
    "  price_after_discount = total_amount * 80/100\n",
    "  print(f\"Pay amount: {price_after_discount}\")\n",
    "else:\n",
    "  print(f\"Pay amount: {total_amount}\")"
   ]
  },
  {
   "cell_type": "code",
   "execution_count": 20,
   "metadata": {},
   "outputs": [
    {
     "name": "stdout",
     "output_type": "stream",
     "text": [
      "cart total: 690\n",
      "Pay amount: 552.0\n"
     ]
    }
   ],
   "source": [
    "total_amount = 90 + 100 + 500\n",
    "\n",
    "print(f\"cart total: {total_amount}\")\n",
    "\n",
    "if total_amount > 999:\n",
    "  price_after_discount = total_amount * 70/100\n",
    "  print(f\"Pay amount: {price_after_discount}\")\n",
    "elif total_amount <= 999 and total_amount > 499: #  999 <= price < 499\n",
    "  price_after_discount = total_amount * 80/100\n",
    "  print(f\"Pay amount: {price_after_discount}\")\n",
    "else:\n",
    "  print(f\"Pay amount: {total_amount}\")"
   ]
  },
  {
   "cell_type": "code",
   "execution_count": 21,
   "metadata": {},
   "outputs": [
    {
     "name": "stdout",
     "output_type": "stream",
     "text": [
      "cart total: 690\n",
      "Pay amount: 552.0\n"
     ]
    }
   ],
   "source": [
    "total_amount = 90 + 100 + 500\n",
    "\n",
    "print(f\"cart total: {total_amount}\")\n",
    "\n",
    "if total_amount > 999:\n",
    "  price_after_discount = total_amount * 70/100\n",
    "  print(f\"Pay amount: {price_after_discount}\")\n",
    "elif  499 < total_amount <= 999: #  999 <= price < 499\n",
    "  price_after_discount = total_amount * 80/100\n",
    "  print(f\"Pay amount: {price_after_discount}\")\n",
    "else:\n",
    "  print(f\"Pay amount: {total_amount}\")"
   ]
  },
  {
   "cell_type": "code",
   "execution_count": 22,
   "metadata": {},
   "outputs": [
    {
     "name": "stdout",
     "output_type": "stream",
     "text": [
      "cart total: 690\n",
      "Pay amount: 552.0\n"
     ]
    }
   ],
   "source": [
    "total_amount = 90 + 100 + 500\n",
    "\n",
    "print(f\"cart total: {total_amount}\")\n",
    "\n",
    "if total_amount > 999:\n",
    "  price_after_discount = total_amount * 70/100\n",
    "  print(f\"Pay amount: {price_after_discount}\")\n",
    "if 499 < total_amount <= 999: #  999 <= price < 499\n",
    "  price_after_discount = total_amount * 80/100\n",
    "  print(f\"Pay amount: {price_after_discount}\")\n",
    "else:\n",
    "  print(f\"Pay amount: {total_amount}\")"
   ]
  },
  {
   "cell_type": "code",
   "execution_count": 23,
   "metadata": {},
   "outputs": [
    {
     "name": "stdout",
     "output_type": "stream",
     "text": [
      "cart total: 1690\n",
      "Pay amount: 1014.0\n"
     ]
    }
   ],
   "source": [
    "total_amount = 90 + 100 + 500 + 1000\n",
    "\n",
    "print(f\"cart total: {total_amount}\")\n",
    "\n",
    "if total_amount > 1499:\n",
    "  price_after_discount = total_amount * 60/100\n",
    "  print(f\"Pay amount: {price_after_discount}\")\n",
    "elif 999 < total_amount <= 1499:\n",
    "  price_after_discount = total_amount * 70/100\n",
    "  print(f\"Pay amount: {price_after_discount}\")\n",
    "elif 499 < total_amount <= 999: #  999 <= price < 499\n",
    "  price_after_discount = total_amount * 80/100\n",
    "  print(f\"Pay amount: {price_after_discount}\")\n",
    "else:\n",
    "  print(f\"Pay amount: {total_amount}\")"
   ]
  },
  {
   "cell_type": "code",
   "execution_count": 24,
   "metadata": {},
   "outputs": [],
   "source": [
    "val = float(input(\"Enter a nuber:\"))\n",
    "if val>=0:\n",
    "  if val == 0:\n",
    "    print(\"Its zero\")\n",
    "  else:\n",
    "    print(\"Its a positive no\")\n",
    "else:\n",
    "  print(\"Negative number\")\n",
    "  "
   ]
  },
  {
   "cell_type": "code",
   "execution_count": null,
   "metadata": {},
   "outputs": [
    {
     "name": "stdout",
     "output_type": "stream",
     "text": [
      "NO\n"
     ]
    }
   ],
   "source": [
    "val = float(input(\"Enter a number\"))\n",
    "\n",
    "if val > 99: print(\"YES\")\n",
    "else: print(\"NO\")"
   ]
  },
  {
   "cell_type": "code",
   "execution_count": null,
   "metadata": {},
   "outputs": [
    {
     "name": "stdout",
     "output_type": "stream",
     "text": [
      "NO\n"
     ]
    }
   ],
   "source": [
    "val = float(input(\"Enter a number\"))\n",
    "\n",
    "if val > 99: \n",
    "  print(\"YES\")\n",
    "else: \n",
    "  print(\"NO\")"
   ]
  },
  {
   "cell_type": "code",
   "execution_count": null,
   "metadata": {},
   "outputs": [
    {
     "name": "stdout",
     "output_type": "stream",
     "text": [
      "Your score is: 100, cutoff: 400\n",
      "I will attempt next year\n",
      "Your score is: 200, cutoff: 400\n",
      "I will attempt next year\n",
      "Your score is: 300, cutoff: 400\n",
      "I will attempt next year\n",
      "Your score is: 399, cutoff: 400\n",
      "I will attempt next year\n"
     ]
    }
   ],
   "source": [
    "cutoff = 400\n",
    "scores = [100, 200, 300, 399, 500]\n",
    "\n",
    "# I will keep on attempting until I succeed\n",
    "year = 0 # indexing in python starts with 0\n",
    "\n",
    "while scores[year] < cutoff:\n",
    "  print(f\"Your score is: {scores[year]}, cutoff: {cutoff}\")\n",
    "  print(\"I will attempt next year\")\n",
    "  year = year + 1 # I am adding 1 to current year"
   ]
  },
  {
   "cell_type": "code",
   "execution_count": null,
   "metadata": {},
   "outputs": [
    {
     "data": {
      "text/plain": [
       "500"
      ]
     },
     "execution_count": 11,
     "metadata": {},
     "output_type": "execute_result"
    }
   ],
   "source": [
    "year = 4\n",
    "scores[year]"
   ]
  },
  {
   "cell_type": "code",
   "execution_count": null,
   "metadata": {},
   "outputs": [
    {
     "name": "stdout",
     "output_type": "stream",
     "text": [
      "current sum: 10\n",
      "current sum: 20\n",
      "current sum: 30\n",
      "current sum: 40\n",
      "current sum: 50\n",
      "current sum: 60\n",
      "current sum: 70\n",
      "current sum: 80\n",
      "current sum: 90\n",
      "current sum: 100\n"
     ]
    }
   ],
   "source": [
    "\n",
    "notes = 10\n",
    "i = 1 # 1st note\n",
    "\n",
    "while i <= notes:\n",
    "  print(f\"current sum: {i*10}\")\n",
    "  i = i + 1\n"
   ]
  },
  {
   "cell_type": "code",
   "execution_count": null,
   "metadata": {},
   "outputs": [
    {
     "name": "stdout",
     "output_type": "stream",
     "text": [
      "current station is: Station 01\n",
      "my destination is: Station 03\n",
      "Continue the journey I haven't reached the destination\n",
      "Next station is: Station 02\n",
      "-----\n",
      "current station is: Station 02\n",
      "my destination is: Station 03\n",
      "Continue the journey I haven't reached the destination\n",
      "Next station is: Station 03\n",
      "-----\n"
     ]
    }
   ],
   "source": [
    "stations = [\"Station 01\", \"Station 02\", \"Station 03\", \"Station 04\"]\n",
    "\n",
    "current_station = 0\n",
    "destination_station = \"Station 03\"\n",
    "\n",
    "while stations[current_station] != destination_station:\n",
    "  print(f\"current station is: {stations[current_station]}\")\n",
    "  print(f\"my destination is: {destination_station}\")\n",
    "  print(\"Continue the journey I haven't reached the destination\")\n",
    "  current_station = current_station + 1\n",
    "  print(f\"Next station is: {stations[current_station]}\")\n",
    "  print(\"-----\")"
   ]
  },
  {
   "cell_type": "code",
   "execution_count": null,
   "metadata": {},
   "outputs": [
    {
     "name": "stdout",
     "output_type": "stream",
     "text": [
      "current station is: Station 01\n",
      "my destination is: Station 03\n",
      "Continue the journey I haven't reached the destination\n",
      "Next station is: Station 02\n",
      "-----\n",
      "current station is: Station 02\n",
      "my destination is: Station 03\n",
      "Continue the journey I haven't reached the destination\n",
      "Next station is: Station 03\n",
      "-----\n",
      "I have arrived at: Station 03\n"
     ]
    }
   ],
   "source": [
    "stations = [\"Station 01\", \"Station 02\", \"Station 03\", \"Station 04\"]\n",
    "\n",
    "current_station = 0\n",
    "destination_station = \"Station 03\"\n",
    "\n",
    "while stations[current_station] != destination_station:\n",
    "  print(f\"current station is: {stations[current_station]}\")\n",
    "  print(f\"my destination is: {destination_station}\")\n",
    "  print(\"Continue the journey I haven't reached the destination\")\n",
    "  current_station = current_station + 1\n",
    "  print(f\"Next station is: {stations[current_station]}\")\n",
    "  print(\"-----\")\n",
    "else:\n",
    "  print(f\"I have arrived at: {stations[current_station]}\")  "
   ]
  },
  {
   "cell_type": "code",
   "execution_count": null,
   "metadata": {},
   "outputs": [
    {
     "name": "stdout",
     "output_type": "stream",
     "text": [
      "CONDITION: True\n",
      "current sum: 10\n",
      "------\n",
      "CONDITION: True\n",
      "current sum: 20\n",
      "------\n",
      "CONDITION: True\n",
      "current sum: 30\n",
      "------\n",
      "CONDITION: True\n",
      "current sum: 40\n",
      "------\n",
      "CONDITION: True\n",
      "current sum: 50\n",
      "------\n",
      "CONDITION: False\n",
      "No more 10 rupees notes left\n"
     ]
    }
   ],
   "source": [
    "notes = 5\n",
    "i = 1 # 1st note\n",
    "\n",
    "while i <= notes:\n",
    "  print(f\"CONDITION: {i <= notes}\")\n",
    "  print(f\"current sum: {i*10}\")\n",
    "  i = i + 1\n",
    "  print(\"------\")\n",
    "else:\n",
    "  print(f\"CONDITION: {i <= notes}\")\n",
    "  print(\"No more 10 rupees notes left\")"
   ]
  },
  {
   "cell_type": "code",
   "execution_count": null,
   "metadata": {},
   "outputs": [
    {
     "name": "stdout",
     "output_type": "stream",
     "text": [
      "0\n",
      "1\n",
      "2\n",
      "3\n",
      "4\n",
      "5\n",
      "6\n",
      "7\n",
      "8\n",
      "9\n"
     ]
    }
   ],
   "source": [
    "for i in range(0, 10):\n",
    "  print(i)"
   ]
  },
  {
   "cell_type": "code",
   "execution_count": null,
   "metadata": {},
   "outputs": [
    {
     "name": "stdout",
     "output_type": "stream",
     "text": [
      "10 X 0 = 0\n",
      "10 X 1 = 10\n",
      "10 X 2 = 20\n",
      "10 X 3 = 30\n",
      "10 X 4 = 40\n",
      "10 X 5 = 50\n",
      "10 X 6 = 60\n",
      "10 X 7 = 70\n",
      "10 X 8 = 80\n",
      "10 X 9 = 90\n"
     ]
    }
   ],
   "source": [
    "for i in range(0, 10): # (10 here is out of bound)\n",
    "  print(f\"10 X {i} = {10*i}\")"
   ]
  },
  {
   "cell_type": "code",
   "execution_count": null,
   "metadata": {},
   "outputs": [],
   "source": [
    "for i in range(0, 10): # (10 here is out of bound)\n",
    "  print(f\"10 X {i + 1} = {10*(i+1)}\")"
   ]
  },
  {
   "cell_type": "code",
   "execution_count": null,
   "metadata": {},
   "outputs": [],
   "source": [
    "for i in range(1, 11): # (11 here is out of bound)\n",
    "  print(f\"10 X {i} = {10*i}\")"
   ]
  },
  {
   "cell_type": "code",
   "execution_count": null,
   "metadata": {},
   "outputs": [],
   "source": [
    "\"Sunny\"*10"
   ]
  },
  {
   "cell_type": "code",
   "execution_count": null,
   "metadata": {},
   "outputs": [],
   "source": [
    "\"Sunny\" + \"Sunny\""
   ]
  },
  {
   "cell_type": "code",
   "execution_count": null,
   "metadata": {},
   "outputs": [],
   "source": [
    "for i in range(1, 11): # (11 here is out of bound)\n",
    "  print(\"*\"*i)"
   ]
  },
  {
   "cell_type": "code",
   "execution_count": null,
   "metadata": {},
   "outputs": [],
   "source": [
    "\n",
    "for sunny in range(1, 11): # (11 here is out of bound)\n",
    "  print(\"*\"*sunny)"
   ]
  },
  {
   "cell_type": "code",
   "execution_count": null,
   "metadata": {},
   "outputs": [],
   "source": [
    "Cost_of_items = [100, 200, 129, 456]\n",
    "#                 0    1    2    3\n",
    "\n",
    "total_sum = 0\n",
    "\n",
    "for i in range(0, 4): # 0,1,2,3 \n",
    "  print(f\"{total_sum} = {total_sum} + {Cost_of_items[i]}\")\n",
    "  total_sum = total_sum + Cost_of_items[i]\n",
    "  print(f\"after adding total_sum={total_sum}\")\n",
    "  print(\"---\")\n",
    "print(f\"Total amount to be paid: {total_sum}\")"
   ]
  },
  {
   "cell_type": "code",
   "execution_count": null,
   "metadata": {},
   "outputs": [],
   "source": [
    "Cost_of_items = [100, 200, 129, 456]\n",
    "#                 0    1    2    3\n",
    "\n",
    "total_sum = 0\n",
    "\n",
    "for i in range(0, 3): # 0,1,2,3 \n",
    "  print(f\"{total_sum} = {total_sum} + {Cost_of_items[i]}\")\n",
    "  total_sum = total_sum + Cost_of_items[i]\n",
    "  print(f\"after adding total_sum={total_sum}\")\n",
    "  print(\"---\")\n",
    "print(f\"Total amount to be paid: {total_sum}\")"
   ]
  },
  {
   "cell_type": "code",
   "execution_count": 1,
   "metadata": {},
   "outputs": [
    {
     "ename": "NameError",
     "evalue": "name 'Cost_of_items' is not defined",
     "output_type": "error",
     "traceback": [
      "\u001b[1;31m---------------------------------------------------------------------------\u001b[0m",
      "\u001b[1;31mNameError\u001b[0m                                 Traceback (most recent call last)",
      "\u001b[1;32mc:\\Users\\91822\\Desktop\\git_hub\\Ineuron-Full-stack-Data-science-Program\\Python\\python_class4.ipynb Cell 26\u001b[0m in \u001b[0;36m<cell line: 1>\u001b[1;34m()\u001b[0m\n\u001b[1;32m----> <a href='vscode-notebook-cell:/c%3A/Users/91822/Desktop/git_hub/Ineuron-Full-stack-Data-science-Program/Python/python_class4.ipynb#X34sZmlsZQ%3D%3D?line=0'>1</a>\u001b[0m \u001b[39mlen\u001b[39m(Cost_of_items)\n",
      "\u001b[1;31mNameError\u001b[0m: name 'Cost_of_items' is not defined"
     ]
    }
   ],
   "source": [
    "len(Cost_of_items)"
   ]
  },
  {
   "cell_type": "code",
   "execution_count": null,
   "metadata": {},
   "outputs": [],
   "source": [
    "Cost_of_items = [100, 200, 129, 456, 1000]\n",
    "#                 0    1    2    3\n",
    "\n",
    "total_sum = 0\n",
    "N = len(Cost_of_items)\n",
    "\n",
    "for i in range(0, N): # 0,1,2,3 \n",
    "  print(f\"{total_sum} = {total_sum} + {Cost_of_items[i]}\")\n",
    "  total_sum = total_sum + Cost_of_items[i]\n",
    "  print(f\"after adding total_sum={total_sum}\")\n",
    "  print(\"---\")\n",
    "print(f\"Total amount to be paid: {total_sum}\")"
   ]
  },
  {
   "cell_type": "code",
   "execution_count": 2,
   "metadata": {},
   "outputs": [
    {
     "name": "stdout",
     "output_type": "stream",
     "text": [
      "0 = 0 + 100\n",
      "after adding total_sum=100\n",
      "---\n",
      "100 = 100 + 200\n",
      "after adding total_sum=300\n",
      "---\n",
      "300 = 300 + 129\n",
      "after adding total_sum=429\n",
      "---\n",
      "429 = 429 + 456\n",
      "after adding total_sum=885\n",
      "---\n",
      "885 = 885 + 1000\n",
      "after adding total_sum=1885\n",
      "---\n",
      "Total amount to be paid: 1885\n"
     ]
    }
   ],
   "source": [
    "Cost_of_items = [100, 200, 129, 456, 1000]\n",
    "#                 0    1    2    3\n",
    "\n",
    "total_sum = 0\n",
    "\n",
    "for cost in Cost_of_items:\n",
    "  print(f\"{total_sum} = {total_sum} + {cost}\")\n",
    "  total_sum = total_sum + cost\n",
    "  print(f\"after adding total_sum={total_sum}\")\n",
    "  print(\"---\")\n",
    "print(f\"Total amount to be paid: {total_sum}\")"
   ]
  },
  {
   "cell_type": "code",
   "execution_count": 3,
   "metadata": {},
   "outputs": [
    {
     "name": "stdout",
     "output_type": "stream",
     "text": [
      "100\n",
      "200\n",
      "129\n",
      "456\n",
      "1000\n"
     ]
    }
   ],
   "source": [
    "Cost_of_items = [100, 200, 129, 456, 1000]\n",
    "#                 0    1    2    3\n",
    "total_sum = 0\n",
    "for cost in Cost_of_items:\n",
    "  print(cost)"
   ]
  },
  {
   "cell_type": "code",
   "execution_count": 4,
   "metadata": {},
   "outputs": [
    {
     "name": "stdout",
     "output_type": "stream",
     "text": [
      "100\n",
      "200\n",
      "129\n",
      "456\n",
      "1000\n"
     ]
    }
   ],
   "source": [
    "Cost_of_items = [100, 200, 129, 456, 1000]\n",
    "#                 0    1    2    3\n",
    "total_sum = 0\n",
    "N = len(Cost_of_items)\n",
    "for i in range(0, N): # 0,1,2,3 \n",
    "  print(Cost_of_items[i])"
   ]
  },
  {
   "cell_type": "code",
   "execution_count": 5,
   "metadata": {},
   "outputs": [
    {
     "name": "stdout",
     "output_type": "stream",
     "text": [
      "Current station is: Station 01\n",
      "Current station is: Station 02\n",
      "Current station is: Station 03\n",
      "Current station is: Station 04\n"
     ]
    }
   ],
   "source": [
    "# Train journey \n",
    "stations = [\"Station 01\", \"Station 02\", \"Station 03\", \"Station 04\"]\n",
    "\n",
    "for current_station in stations:\n",
    "  print(f\"Current station is: {current_station}\")"
   ]
  },
  {
   "cell_type": "code",
   "execution_count": 6,
   "metadata": {},
   "outputs": [
    {
     "name": "stdout",
     "output_type": "stream",
     "text": [
      "Current station is: Station 01\n",
      "Current station is: Station 02\n",
      "Current station is: Station 03\n",
      "Current station is: Station 04\n"
     ]
    }
   ],
   "source": [
    "# Train journey \n",
    "stations = [\"Station 01\", \"Station 02\", \"Station 03\", \"Station 04\"]\n",
    "\n",
    "for sunny in stations:\n",
    "  print(f\"Current station is: {sunny}\")"
   ]
  },
  {
   "cell_type": "code",
   "execution_count": 7,
   "metadata": {},
   "outputs": [
    {
     "name": "stdout",
     "output_type": "stream",
     "text": [
      "current total: 100\n",
      "current total: 300\n",
      "current total: 429\n",
      "current total: 885\n",
      "current total: 1885\n",
      "current total: 2084\n",
      "since current total is more than my budget: 2000\n",
      "please remove the last item\n",
      "total amount to be paid: 1885\n"
     ]
    }
   ],
   "source": [
    "cost_of_items = [100, 200, 129, 456, 1000, 199, 299]\n",
    "#                 0    1    2    3\n",
    "\n",
    "total_sum = 0\n",
    "budget = 2000\n",
    "\n",
    "for cost in cost_of_items:\n",
    "  total_sum = total_sum + cost\n",
    "  print(f\"current total: {total_sum}\")\n",
    "  if total_sum > budget:\n",
    "    print(f\"since current total is more than my budget: {budget}\")\n",
    "    print(\"please remove the last item\")\n",
    "    total_sum = total_sum - cost\n",
    "    break\n",
    "\n",
    "print(f'total amount to be paid: {total_sum}')"
   ]
  },
  {
   "cell_type": "code",
   "execution_count": 8,
   "metadata": {},
   "outputs": [
    {
     "name": "stdout",
     "output_type": "stream",
     "text": [
      "1\n",
      "2\n",
      "3\n",
      "4\n",
      "5\n",
      "6\n",
      "7\n",
      "8\n",
      "9\n",
      "10\n",
      "11\n",
      "12\n",
      "13\n",
      "14\n",
      "15\n",
      "16\n",
      "17\n",
      "18\n",
      "19\n",
      "20\n",
      "21\n",
      "22\n",
      "23\n",
      "24\n",
      "25\n",
      "26\n",
      "27\n",
      "28\n",
      "29\n",
      "30\n",
      "31\n",
      "32\n",
      "33\n",
      "34\n",
      "35\n",
      "36\n",
      "37\n",
      "38\n",
      "39\n",
      "40\n",
      "41\n",
      "42\n",
      "43\n",
      "44\n",
      "45\n",
      "46\n",
      "47\n",
      "48\n",
      "49\n",
      "50\n",
      "51\n"
     ]
    }
   ],
   "source": [
    "for i in range(1, 100):\n",
    "  print(i)\n",
    "  if i > 50:\n",
    "    break\n"
   ]
  },
  {
   "cell_type": "code",
   "execution_count": 9,
   "metadata": {},
   "outputs": [
    {
     "name": "stdout",
     "output_type": "stream",
     "text": [
      "1\n",
      "2\n",
      "3\n",
      "4\n",
      "5\n",
      "6\n",
      "7\n",
      "8\n",
      "9\n",
      "10\n",
      "11\n",
      "12\n",
      "13\n",
      "14\n",
      "15\n",
      "16\n",
      "17\n",
      "18\n",
      "19\n",
      "20\n",
      "21\n",
      "22\n",
      "23\n",
      "24\n",
      "25\n",
      "26\n",
      "27\n",
      "28\n",
      "29\n",
      "30\n",
      "31\n",
      "32\n",
      "33\n",
      "34\n",
      "35\n",
      "36\n",
      "37\n",
      "38\n",
      "39\n",
      "40\n",
      "41\n",
      "42\n",
      "43\n",
      "44\n",
      "45\n",
      "46\n",
      "47\n",
      "48\n",
      "49\n",
      "50\n"
     ]
    }
   ],
   "source": [
    "for i in range(1, 100):\n",
    "  print(i)\n",
    "  if i >= 50:\n",
    "    break\n"
   ]
  },
  {
   "cell_type": "code",
   "execution_count": 10,
   "metadata": {},
   "outputs": [
    {
     "name": "stdout",
     "output_type": "stream",
     "text": [
      "1\n",
      "2\n",
      "3\n",
      "4\n",
      "5\n",
      "6\n",
      "7\n",
      "8\n",
      "9\n",
      "10\n",
      "11\n",
      "12\n",
      "13\n",
      "14\n",
      "15\n",
      "16\n",
      "17\n",
      "18\n",
      "19\n",
      "20\n",
      "21\n",
      "22\n",
      "23\n",
      "24\n",
      "25\n",
      "26\n",
      "27\n",
      "28\n",
      "29\n",
      "30\n",
      "31\n",
      "32\n",
      "33\n",
      "34\n",
      "35\n",
      "36\n",
      "37\n",
      "38\n",
      "39\n",
      "40\n",
      "41\n",
      "42\n",
      "43\n",
      "44\n",
      "45\n",
      "46\n",
      "47\n",
      "48\n",
      "49\n",
      "50\n"
     ]
    }
   ],
   "source": [
    "for i in range(1, 100):\n",
    "  if i > 50:\n",
    "    break\n",
    "  print(i)\n",
    "  "
   ]
  },
  {
   "cell_type": "code",
   "execution_count": 11,
   "metadata": {},
   "outputs": [
    {
     "name": "stdout",
     "output_type": "stream",
     "text": [
      "1\n",
      "3\n",
      "5\n",
      "7\n",
      "9\n",
      "11\n",
      "13\n",
      "15\n",
      "17\n",
      "19\n"
     ]
    }
   ],
   "source": [
    "for i in range(1, 20):\n",
    "  if i%2==0: # if no is even then start the loop again\n",
    "    continue\n",
    "  print(i)\n",
    "  "
   ]
  },
  {
   "cell_type": "code",
   "execution_count": 12,
   "metadata": {},
   "outputs": [
    {
     "name": "stdout",
     "output_type": "stream",
     "text": [
      "1\n"
     ]
    }
   ],
   "source": [
    "for i in range(1, 20):\n",
    "  if i%2==0: # if no is even then start the loop again\n",
    "    break\n",
    "  print(i)\n",
    "  "
   ]
  },
  {
   "cell_type": "code",
   "execution_count": 13,
   "metadata": {},
   "outputs": [
    {
     "name": "stdout",
     "output_type": "stream",
     "text": [
      "2\n",
      "4\n",
      "6\n",
      "8\n",
      "10\n",
      "12\n",
      "14\n",
      "16\n",
      "18\n"
     ]
    }
   ],
   "source": [
    "for i in range(1, 20):\n",
    "  if i%2!=0: # if no is odd then start the loop again\n",
    "    continue # Start the loop again\n",
    "  print(i)"
   ]
  },
  {
   "cell_type": "code",
   "execution_count": 14,
   "metadata": {},
   "outputs": [],
   "source": [
    "for i in range(1, 20):\n",
    "  if i%2!=0: #\n",
    "    break # STOP THE LOOP DON't proceed at all\n",
    "  print(i)"
   ]
  },
  {
   "cell_type": "code",
   "execution_count": 15,
   "metadata": {},
   "outputs": [
    {
     "name": "stdout",
     "output_type": "stream",
     "text": [
      "Current station is: Station 01\n",
      "Current station is: Station 02\n",
      "Current station is: Station 03\n"
     ]
    }
   ],
   "source": [
    "# Train journey \n",
    "stations = [\"Station 01\", \"Station 02\", \"Station 03\", \"Station 04\"]\n",
    "\n",
    "for current_station in stations:\n",
    "  print(f\"Current station is: {current_station}\")\n",
    "  if current_station == \"Station 03\":\n",
    "    break"
   ]
  },
  {
   "cell_type": "code",
   "execution_count": 16,
   "metadata": {},
   "outputs": [
    {
     "name": "stdout",
     "output_type": "stream",
     "text": [
      "The no is even\n"
     ]
    }
   ],
   "source": [
    "num = 100\n",
    "\n",
    "if num%2 == 0:\n",
    "  print(\"The no is even\")\n",
    "else:\n",
    "  print(\"The no is odd\")\n"
   ]
  },
  {
   "cell_type": "code",
   "execution_count": 17,
   "metadata": {},
   "outputs": [
    {
     "name": "stdout",
     "output_type": "stream",
     "text": [
      "The no is odd\n"
     ]
    }
   ],
   "source": [
    "num = 99\n",
    "\n",
    "if num%2 == 0:\n",
    "  print(\"The no is even\")\n",
    "else:\n",
    "  print(\"The no is odd\")"
   ]
  },
  {
   "cell_type": "code",
   "execution_count": 18,
   "metadata": {},
   "outputs": [
    {
     "name": "stdout",
     "output_type": "stream",
     "text": [
      "the no. is in range 80 to 100\n"
     ]
    }
   ],
   "source": [
    "num = 89\n",
    "\n",
    "if num > 100:\n",
    "  print(\"the no. is greater than 100\")\n",
    "elif 80 < num <= 100:\n",
    "  print(\"the no. is in range 80 to 100\")\n",
    "\n",
    "elif 60 < num <= 80:\n",
    "  print(\"the no. is in range 60 to 80\")\n",
    "\n",
    "elif 40 < num <= 60:\n",
    "  print(\"the no. is in range 40 to 60\")\n",
    "\n",
    "else:\n",
    "  print(\"The no is less than 40\")"
   ]
  },
  {
   "cell_type": "code",
   "execution_count": 19,
   "metadata": {},
   "outputs": [
    {
     "name": "stdout",
     "output_type": "stream",
     "text": [
      "grade A\n"
     ]
    }
   ],
   "source": [
    "num = 100\n",
    "\n",
    "if 80 < num <= 100:\n",
    "  print(\"grade A\")\n",
    "elif 60 < num <= 80:\n",
    "  print(\"grade B\")\n",
    "elif 40 < num <= 60:\n",
    "  print(\"grade C\")\n",
    "else:\n",
    "  print(\"Failed\")"
   ]
  },
  {
   "cell_type": "code",
   "execution_count": 20,
   "metadata": {},
   "outputs": [
    {
     "name": "stdout",
     "output_type": "stream",
     "text": [
      "a is greater than all 3 nos: 120\n"
     ]
    }
   ],
   "source": [
    "a, b, c = 120, 13, 15\n",
    "\n",
    "if a > b:\n",
    "  if a > c:\n",
    "    print(f\"a is greater than all 3 nos: {a}\")\n",
    "  \n",
    "  "
   ]
  },
  {
   "cell_type": "code",
   "execution_count": 21,
   "metadata": {},
   "outputs": [
    {
     "name": "stdout",
     "output_type": "stream",
     "text": [
      "attendence criteria met? : False\n",
      "assignment criteria met? : False\n",
      "sports criteria met? : True\n",
      "The student is not eligible\n"
     ]
    }
   ],
   "source": [
    "attendance = 70\n",
    "assignment_submitted = 40\n",
    "sports_player = True\n",
    "\n",
    "print(f\"attendence criteria met? : {attendance >= 75}\")\n",
    "print(f\"assignment criteria met? : {assignment_submitted >= 70}\")\n",
    "print(f\"sports criteria met? : {sports_player}\")\n",
    "\n",
    "if attendance >= 75 and assignment_submitted >= 70:\n",
    "    if sports_player:\n",
    "        print(\"The student is eligible to appear in final exam\")\n",
    "    else:\n",
    "        print(\"The student is eligible to appear in final exam\")\n",
    "else:\n",
    "    print(\"The student is not eligible\")"
   ]
  },
  {
   "cell_type": "code",
   "execution_count": null,
   "metadata": {},
   "outputs": [],
   "source": []
  }
 ],
 "metadata": {
  "kernelspec": {
   "display_name": "Python 3",
   "language": "python",
   "name": "python3"
  },
  "language_info": {
   "codemirror_mode": {
    "name": "ipython",
    "version": 3
   },
   "file_extension": ".py",
   "mimetype": "text/x-python",
   "name": "python",
   "nbconvert_exporter": "python",
   "pygments_lexer": "ipython3",
   "version": "3.10.5"
  },
  "orig_nbformat": 4,
  "vscode": {
   "interpreter": {
    "hash": "5813caf3a77ae2b58752a6e35fd24160f56cc938fc758b7720592a81521a2b28"
   }
  }
 },
 "nbformat": 4,
 "nbformat_minor": 2
}
