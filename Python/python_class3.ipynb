{
 "cells": [
  {
   "attachments": {},
   "cell_type": "markdown",
   "metadata": {},
   "source": [
    "Logical operators  - if else, elif , nested elif"
   ]
  },
  {
   "cell_type": "code",
   "execution_count": 2,
   "metadata": {},
   "outputs": [
    {
     "name": "stdout",
     "output_type": "stream",
     "text": [
      "Lets do work from home\n"
     ]
    }
   ],
   "source": [
    "raining = True\n",
    "\n",
    "if raining: # TRUE CONDITION \n",
    "    print(\"Lets do work from home\") # This statemen exectuted\n",
    "else:\n",
    "    print(\"Lets go to office\")"
   ]
  },
  {
   "cell_type": "code",
   "execution_count": 3,
   "metadata": {},
   "outputs": [
    {
     "name": "stdout",
     "output_type": "stream",
     "text": [
      "Lets go to office\n"
     ]
    }
   ],
   "source": [
    "raining = False # its not raining\n",
    "\n",
    "if raining: # FALSE CONDITION\n",
    "    print(\"Lets do work from home\") # \n",
    "else:\n",
    "    print(\"Lets go to office\") "
   ]
  },
  {
   "cell_type": "code",
   "execution_count": 5,
   "metadata": {},
   "outputs": [
    {
     "name": "stdout",
     "output_type": "stream",
     "text": [
      "Lets do work from home\n"
     ]
    }
   ],
   "source": [
    "raining = True\n",
    "\n",
    "if raining: # TRUE CONDITION \n",
    "    print(\"Lets do work from home\") # This statemen exectuted\n",
    "else:\n",
    "    print(\"Lets go to office\")"
   ]
  },
  {
   "cell_type": "code",
   "execution_count": 6,
   "metadata": {},
   "outputs": [
    {
     "name": "stdout",
     "output_type": "stream",
     "text": [
      "Since its raining...\n",
      "Lets do work from home\n"
     ]
    }
   ],
   "source": [
    "raining = True\n",
    "\n",
    "if raining: # TRUE CONDITION \n",
    "    print(\"Since its raining...\")\n",
    "    print(\"Lets do work from home\") # This statemen exectuted\n",
    "else:\n",
    "    print(\"Since its not raining...\")\n",
    "    print(\"Lets go to office\")"
   ]
  },
  {
   "cell_type": "code",
   "execution_count": 7,
   "metadata": {},
   "outputs": [
    {
     "name": "stdout",
     "output_type": "stream",
     "text": [
      "Since its raining...\n",
      "Lets do work from home\n"
     ]
    }
   ],
   "source": [
    "raining = True\n",
    "\n",
    "if not raining: # False CONDITION \n",
    "    print(\"Since its not raining...\")\n",
    "    print(\"Lets go to office\")    \n",
    "else:\n",
    "    print(\"Since its raining...\")\n",
    "    print(\"Lets do work from home\")"
   ]
  },
  {
   "cell_type": "code",
   "execution_count": 9,
   "metadata": {},
   "outputs": [
    {
     "name": "stdout",
     "output_type": "stream",
     "text": [
      "Since its not raining...\n",
      "Lets go to office\n"
     ]
    }
   ],
   "source": [
    "raining = False\n",
    "\n",
    "if not raining: # False CONDITION \n",
    "    print(\"Since its not raining...\")\n",
    "    print(\"Lets go to office\")    \n",
    "else:\n",
    "    print(\"Since its raining...\")\n",
    "    print(\"Lets do work from home\")"
   ]
  },
  {
   "cell_type": "code",
   "execution_count": 10,
   "metadata": {},
   "outputs": [
    {
     "name": "stdout",
     "output_type": "stream",
     "text": [
      "Lets revise previous class\n"
     ]
    }
   ],
   "source": [
    "class_started = False\n",
    "\n",
    "if class_started:\n",
    "    print(\"Lets concentrate\")\n",
    "else:\n",
    "    print(\"Lets revise previous class\")"
   ]
  },
  {
   "cell_type": "code",
   "execution_count": 12,
   "metadata": {},
   "outputs": [
    {
     "name": "stdout",
     "output_type": "stream",
     "text": [
      "Since class started...\n",
      "Lets concentrate\n"
     ]
    }
   ],
   "source": [
    "class_started = True\n",
    "\n",
    "if class_started:\n",
    "    print(\"Since class started...\")\n",
    "    print(\"Lets concentrate\")\n",
    "else:\n",
    "    print(\"Since class is not started...\")\n",
    "    print(\"let's revise\")"
   ]
  },
  {
   "cell_type": "code",
   "execution_count": 13,
   "metadata": {},
   "outputs": [
    {
     "name": "stdout",
     "output_type": "stream",
     "text": [
      "Since class is not started...\n",
      "let's revise\n"
     ]
    }
   ],
   "source": [
    "class_started = False\n",
    "\n",
    "if class_started:\n",
    "    print(\"Since class started...\")\n",
    "    print(\"Lets concentrate\")\n",
    "else:\n",
    "    print(\"Since class is not started...\")\n",
    "    print(\"let's revise\")"
   ]
  },
  {
   "cell_type": "code",
   "execution_count": 14,
   "metadata": {},
   "outputs": [
    {
     "name": "stdout",
     "output_type": "stream",
     "text": [
      "Since class started...\n",
      "Lets concentrate\n"
     ]
    }
   ],
   "source": [
    "class_started = True\n",
    "\n",
    "if not class_started:\n",
    "    print(\"Since class is not started...\")\n",
    "    print(\"let's revise\")\n",
    "else:\n",
    "    print(\"Since class started...\")\n",
    "    print(\"Lets concentrate\")"
   ]
  },
  {
   "cell_type": "code",
   "execution_count": 15,
   "metadata": {},
   "outputs": [
    {
     "name": "stdout",
     "output_type": "stream",
     "text": [
      "Since class is not started...\n",
      "let's revise\n"
     ]
    }
   ],
   "source": [
    "class_started = False\n",
    "\n",
    "if not class_started:\n",
    "    print(\"Since class is not started...\")\n",
    "    print(\"let's revise\")\n",
    "else:\n",
    "    print(\"Since class started...\")\n",
    "    print(\"Lets concentrate\")"
   ]
  },
  {
   "cell_type": "code",
   "execution_count": 16,
   "metadata": {},
   "outputs": [
    {
     "name": "stdout",
     "output_type": "stream",
     "text": [
      "Since class is not started...\n",
      "let's revise\n"
     ]
    }
   ],
   "source": [
    "# statements not alligned properly will give indentation error\n",
    "class_started = False\n",
    "\n",
    "if not class_started:\n",
    "    print(\"Since class is not started...\")\n",
    "    print(\"let's revise\")\n",
    "else:\n",
    "    print(\"Since class started...\")\n",
    "    print(\"Lets concentrate\")"
   ]
  },
  {
   "cell_type": "code",
   "execution_count": 17,
   "metadata": {},
   "outputs": [
    {
     "name": "stdout",
     "output_type": "stream",
     "text": [
      "Its a bad dish\n",
      "because vegetable present: False\n",
      "and salt present: False\n"
     ]
    }
   ],
   "source": [
    "vegetable_present = False\n",
    "salt_present = False\n",
    "\n",
    "if vegetable_present and salt_present:\n",
    "    print(\"Its a good dish\")\n",
    "else:\n",
    "    print(\"Its a bad dish\")\n",
    "    print(f\"because vegetable present: {vegetable_present}\")\n",
    "    print(f\"and salt present: {salt_present}\")"
   ]
  },
  {
   "cell_type": "code",
   "execution_count": 18,
   "metadata": {},
   "outputs": [
    {
     "name": "stdout",
     "output_type": "stream",
     "text": [
      "Its a bad dish\n",
      "because vegetable present: False\n",
      "and salt present: True\n"
     ]
    }
   ],
   "source": [
    "vegetable_present = False\n",
    "salt_present = True\n",
    "\n",
    "if vegetable_present and salt_present:\n",
    "    print(\"Its a good dish\")\n",
    "else:\n",
    "    print(\"Its a bad dish\")\n",
    "    print(f\"because vegetable present: {vegetable_present}\")\n",
    "    print(f\"and salt present: {salt_present}\")"
   ]
  },
  {
   "cell_type": "code",
   "execution_count": 19,
   "metadata": {},
   "outputs": [
    {
     "name": "stdout",
     "output_type": "stream",
     "text": [
      "Its a bad dish\n",
      "because vegetable present: True\n",
      "and salt present: False\n"
     ]
    }
   ],
   "source": [
    "vegetable_present = True\n",
    "salt_present = False\n",
    "\n",
    "if vegetable_present and salt_present:\n",
    "    print(\"Its a good dish\")\n",
    "else:\n",
    "    print(\"Its a bad dish\")\n",
    "    print(f\"because vegetable present: {vegetable_present}\")\n",
    "    print(f\"and salt present: {salt_present}\")"
   ]
  },
  {
   "cell_type": "code",
   "execution_count": 20,
   "metadata": {},
   "outputs": [
    {
     "name": "stdout",
     "output_type": "stream",
     "text": [
      "Its a good dish\n"
     ]
    }
   ],
   "source": [
    "vegetable_present = True\n",
    "salt_present = True\n",
    "\n",
    "if vegetable_present and salt_present: # this condition was true as both the sub conditions are true\n",
    "    print(\"Its a good dish\")\n",
    "else:\n",
    "    print(\"Its a bad dish\")\n",
    "    print(f\"because vegetable present: {vegetable_present}\")\n",
    "    print(f\"and salt present: {salt_present}\")"
   ]
  },
  {
   "cell_type": "code",
   "execution_count": 21,
   "metadata": {},
   "outputs": [
    {
     "name": "stdout",
     "output_type": "stream",
     "text": [
      "hi class my name is: Satyam\n"
     ]
    }
   ],
   "source": [
    "name = \"Satyam\"\n",
    "print(f\"hi class my name is: {name}\")"
   ]
  },
  {
   "cell_type": "code",
   "execution_count": 22,
   "metadata": {},
   "outputs": [
    {
     "name": "stdout",
     "output_type": "stream",
     "text": [
      "I am stuck as I don't have car or bike!\n"
     ]
    }
   ],
   "source": [
    "i_own_car = False\n",
    "i_own_bike = False\n",
    "\n",
    "if i_own_car or i_own_bike:\n",
    "    print(\"I can travel 100 kms in a day!\")\n",
    "else:\n",
    "    print(\"I am stuck as I don't have car or bike!\")"
   ]
  },
  {
   "cell_type": "code",
   "execution_count": 23,
   "metadata": {},
   "outputs": [
    {
     "name": "stdout",
     "output_type": "stream",
     "text": [
      "I can travel 100 kms in a day!\n"
     ]
    }
   ],
   "source": [
    "i_own_car = False\n",
    "i_own_bike = True\n",
    "\n",
    "if i_own_car or i_own_bike:\n",
    "    print(\"I can travel 100 kms in a day!\")\n",
    "else:\n",
    "    print(\"I am stuck as I don't have car or bike!\")"
   ]
  },
  {
   "cell_type": "code",
   "execution_count": 24,
   "metadata": {},
   "outputs": [
    {
     "name": "stdout",
     "output_type": "stream",
     "text": [
      "I can travel 100 kms in a day!\n"
     ]
    }
   ],
   "source": [
    "i_own_car = True\n",
    "i_own_bike = False\n",
    "\n",
    "if i_own_car or i_own_bike:\n",
    "    print(\"I can travel 100 kms in a day!\")\n",
    "else:\n",
    "    print(\"I am stuck as I don't have car or bike!\")"
   ]
  },
  {
   "cell_type": "code",
   "execution_count": 25,
   "metadata": {},
   "outputs": [
    {
     "name": "stdout",
     "output_type": "stream",
     "text": [
      "I can travel 100 kms in a day!\n"
     ]
    }
   ],
   "source": [
    "i_own_car = True\n",
    "i_own_bike = True\n",
    "\n",
    "if i_own_car or i_own_bike:\n",
    "    print(\"I can travel 100 kms in a day!\")\n",
    "else:\n",
    "    print(\"I am stuck as I don't have car or bike!\")"
   ]
  },
  {
   "cell_type": "code",
   "execution_count": 26,
   "metadata": {},
   "outputs": [
    {
     "name": "stdout",
     "output_type": "stream",
     "text": [
      "attendence criteria met? : False\n",
      "assignment criteria met? : False\n",
      "The student is not eligible\n"
     ]
    }
   ],
   "source": [
    "attendance = 70\n",
    "assignment_submitted = 40\n",
    "\n",
    "print(f\"attendence criteria met? : {attendance >= 75}\")\n",
    "print(f\"assignment criteria met? : {assignment_submitted >= 70}\")\n",
    "\n",
    "if attendance >= 75 and assignment_submitted >= 70:\n",
    "    print(\"The student is eligible to appear in final exam\")\n",
    "else:\n",
    "    print(\"The student is not eligible\")"
   ]
  },
  {
   "cell_type": "code",
   "execution_count": 27,
   "metadata": {},
   "outputs": [
    {
     "name": "stdout",
     "output_type": "stream",
     "text": [
      "attendence criteria met? : True\n",
      "assignment criteria met? : False\n",
      "The student is not eligible\n"
     ]
    }
   ],
   "source": [
    "attendance = 90\n",
    "assignment_submitted = 40\n",
    "\n",
    "print(f\"attendence criteria met? : {attendance >= 75}\")\n",
    "print(f\"assignment criteria met? : {assignment_submitted >= 70}\")\n",
    "\n",
    "if attendance >= 75 and assignment_submitted >= 70:\n",
    "    print(\"The student is eligible to appear in final exam\")\n",
    "else:\n",
    "    print(\"The student is not eligible\")"
   ]
  },
  {
   "cell_type": "code",
   "execution_count": 28,
   "metadata": {},
   "outputs": [
    {
     "name": "stdout",
     "output_type": "stream",
     "text": [
      "attendence criteria met? : True\n",
      "assignment criteria met? : True\n",
      "The student is eligible to appear in final exam\n"
     ]
    }
   ],
   "source": [
    "attendance = 90\n",
    "assignment_submitted = 90\n",
    "\n",
    "print(f\"attendence criteria met? : {attendance >= 75}\")\n",
    "print(f\"assignment criteria met? : {assignment_submitted >= 70}\")\n",
    "\n",
    "if attendance >= 75 and assignment_submitted >= 70:\n",
    "    print(\"The student is eligible to appear in final exam\")\n",
    "else:\n",
    "    print(\"The student is not eligible\")"
   ]
  },
  {
   "cell_type": "code",
   "execution_count": 29,
   "metadata": {},
   "outputs": [
    {
     "name": "stdout",
     "output_type": "stream",
     "text": [
      "Ask from a dad for debit or credit card?\n",
      "cash on delivery?\n"
     ]
    }
   ],
   "source": [
    "own_credit_card = False\n",
    "own_debit_card = False\n",
    "\n",
    "if own_credit_card or own_debit_card:\n",
    "    print(\"proceed further for payment\")\n",
    "else:\n",
    "    print(\"Ask from a dad for debit or credit card?\")\n",
    "    print(\"cash on delivery?\")"
   ]
  },
  {
   "cell_type": "code",
   "execution_count": 30,
   "metadata": {},
   "outputs": [
    {
     "name": "stdout",
     "output_type": "stream",
     "text": [
      "proceed further for payment\n"
     ]
    }
   ],
   "source": [
    "own_credit_card = False\n",
    "own_debit_card = True\n",
    "\n",
    "if own_credit_card or own_debit_card:\n",
    "    print(\"proceed further for payment\")\n",
    "else:\n",
    "    print(\"Ask from a dad for debit or credit card?\")\n",
    "    print(\"cash on delivery?\")"
   ]
  },
  {
   "cell_type": "code",
   "execution_count": 31,
   "metadata": {},
   "outputs": [
    {
     "name": "stdout",
     "output_type": "stream",
     "text": [
      "proceed further for payment\n"
     ]
    }
   ],
   "source": [
    "own_credit_card = False\n",
    "own_debit_card = False\n",
    "Net_banking = True\n",
    "\n",
    "if own_credit_card or own_debit_card or Net_banking:\n",
    "    print(\"proceed further for payment\")\n",
    "else:\n",
    "    print(\"Ask from a dad for debit or credit card?\")\n",
    "    print(\"cash on delivery?\")"
   ]
  },
  {
   "cell_type": "code",
   "execution_count": 32,
   "metadata": {},
   "outputs": [
    {
     "name": "stdout",
     "output_type": "stream",
     "text": [
      "attendence criteria met? : False\n",
      "assignment criteria met? : False\n",
      "sports criteria met? : True\n",
      "The student is not eligible\n"
     ]
    }
   ],
   "source": [
    "attendance = 70\n",
    "assignment_submitted = 40\n",
    "sports_player = True\n",
    "\n",
    "print(f\"attendence criteria met? : {attendance >= 75}\")\n",
    "print(f\"assignment criteria met? : {assignment_submitted >= 70}\")\n",
    "print(f\"sports criteria met? : {sports_player}\")\n",
    "\n",
    "if attendance >= 75 and assignment_submitted >= 70:\n",
    "    if sports_player:\n",
    "        print(\"The student is eligible to appear in final exam\")\n",
    "    else:\n",
    "        print(\"The student is eligible to appear in final exam\")\n",
    "else:\n",
    "    print(\"The student is not eligible\")"
   ]
  },
  {
   "cell_type": "code",
   "execution_count": 33,
   "metadata": {},
   "outputs": [
    {
     "name": "stdout",
     "output_type": "stream",
     "text": [
      "attendence criteria met? : True\n",
      "assignment criteria met? : True\n",
      "sports criteria met? : False\n",
      "The student is eligible to appear in final exam but not extra grace marks\n"
     ]
    }
   ],
   "source": [
    "# complex conditional casses as mentioned above -\n",
    "attendance = 90 # mendatory\n",
    "assignment_submitted = 75 # mendatory\n",
    "sports_player = False # not mendatory\n",
    "\n",
    "print(f\"attendence criteria met? : {attendance >= 75}\")\n",
    "print(f\"assignment criteria met? : {assignment_submitted >= 70}\")\n",
    "print(f\"sports criteria met? : {sports_player}\")\n",
    "\n",
    "if attendance >= 75 and assignment_submitted >= 70:\n",
    "    if sports_player:\n",
    "        print(\"The student is can get grace marks = +10\")\n",
    "    else:\n",
    "        print(\"The student is eligible to appear in final exam but not extra grace marks\")\n",
    "else:\n",
    "    print(\"The student is not eligible\")"
   ]
  },
  {
   "cell_type": "code",
   "execution_count": 34,
   "metadata": {},
   "outputs": [
    {
     "name": "stdout",
     "output_type": "stream",
     "text": [
      "attendence criteria met? : True\n",
      "assignment criteria met? : True\n",
      "sports criteria met? : True\n",
      "The student can get grace marks = +10\n"
     ]
    }
   ],
   "source": [
    "attendance = 90 \n",
    "assignment_submitted = 75 \n",
    "sports_player = True \n",
    "\n",
    "print(f\"attendence criteria met? : {attendance >= 75}\")\n",
    "print(f\"assignment criteria met? : {assignment_submitted >= 70}\")\n",
    "print(f\"sports criteria met? : {sports_player}\")\n",
    "\n",
    "if attendance >= 75 and assignment_submitted >= 70:\n",
    "    if sports_player:\n",
    "        print(\"The student can get grace marks = +10\")\n",
    "    else:\n",
    "        print(\"The student is eligible to appear in final exam but not extra grace marks\")\n",
    "else:\n",
    "    print(\"The student is not eligible\")"
   ]
  },
  {
   "cell_type": "code",
   "execution_count": 35,
   "metadata": {},
   "outputs": [
    {
     "name": "stdout",
     "output_type": "stream",
     "text": [
      "attendence criteria met? : True\n",
      "assignment criteria met? : False\n",
      "sports criteria met? : True\n",
      "The student is not eligible\n"
     ]
    }
   ],
   "source": [
    "attendance = 90 \n",
    "assignment_submitted = 40 \n",
    "sports_player = True \n",
    "print(f\"attendence criteria met? : {attendance >= 75}\")\n",
    "print(f\"assignment criteria met? : {assignment_submitted >= 70}\")\n",
    "print(f\"sports criteria met? : {sports_player}\")\n",
    "\n",
    "if attendance >= 75 and assignment_submitted >= 70:\n",
    "    if sports_player:\n",
    "        print(\"The student can get grace marks = +10\")\n",
    "    else:\n",
    "        print(\"The student is eligible to appear in final exam but not extra grace marks\")\n",
    "else:\n",
    "    print(\"The student is not eligible\")"
   ]
  },
  {
   "cell_type": "code",
   "execution_count": 36,
   "metadata": {},
   "outputs": [
    {
     "name": "stdout",
     "output_type": "stream",
     "text": [
      "A and B are same\n"
     ]
    }
   ],
   "source": [
    "A = 1\n",
    "B = 1\n",
    "\n",
    "if A is B:\n",
    "    print(\"A and B are same\")\n",
    "else:\n",
    "    print(\"A and B are not same\")"
   ]
  },
  {
   "cell_type": "code",
   "execution_count": 37,
   "metadata": {},
   "outputs": [
    {
     "name": "stdout",
     "output_type": "stream",
     "text": [
      "A and B are not same\n"
     ]
    }
   ],
   "source": [
    "A = 1\n",
    "B = 2\n",
    "\n",
    "if A is B:\n",
    "    print(\"A and B are same\")\n",
    "else:\n",
    "    print(\"A and B are not same\")"
   ]
  },
  {
   "cell_type": "code",
   "execution_count": 38,
   "metadata": {},
   "outputs": [
    {
     "name": "stdout",
     "output_type": "stream",
     "text": [
      "A and B are not same\n"
     ]
    }
   ],
   "source": [
    "A = 1\n",
    "B = 2\n",
    "\n",
    "if A is not B:\n",
    "    print(\"A and B are not same\")\n",
    "else:\n",
    "    print(\"A and B are same\")"
   ]
  },
  {
   "cell_type": "code",
   "execution_count": 39,
   "metadata": {},
   "outputs": [
    {
     "name": "stdout",
     "output_type": "stream",
     "text": [
      "A and B are same\n"
     ]
    }
   ],
   "source": [
    "A = 1\n",
    "B = 1\n",
    "\n",
    "if A == B: # A and B are having same value\n",
    "    print(\"A and B are same\")\n",
    "else:\n",
    "    print(\"A and B are not same\")"
   ]
  },
  {
   "cell_type": "code",
   "execution_count": 40,
   "metadata": {},
   "outputs": [
    {
     "name": "stdout",
     "output_type": "stream",
     "text": [
      "A and B are not same\n"
     ]
    }
   ],
   "source": [
    "A = 1\n",
    "B = 2\n",
    "\n",
    "if A != B:\n",
    "    print(\"A and B are not same\")\n",
    "else:\n",
    "    print(\"A and B are same\")"
   ]
  },
  {
   "cell_type": "code",
   "execution_count": 41,
   "metadata": {},
   "outputs": [
    {
     "data": {
      "text/plain": [
       "True"
      ]
     },
     "execution_count": 41,
     "metadata": {},
     "output_type": "execute_result"
    }
   ],
   "source": [
    "A = \"Sunny\"\n",
    "B = \"Sunny\"\n",
    "\n",
    "A is B"
   ]
  },
  {
   "cell_type": "code",
   "execution_count": 42,
   "metadata": {},
   "outputs": [
    {
     "data": {
      "text/plain": [
       "False"
      ]
     },
     "execution_count": 42,
     "metadata": {},
     "output_type": "execute_result"
    }
   ],
   "source": [
    "A = [\"Sunny\", \"Rishav\"]  # list data structure # array in other language\n",
    "B = [\"Sunny\", \"Rishav\"]  # list data structure\n",
    "\n",
    "A is B"
   ]
  },
  {
   "cell_type": "code",
   "execution_count": 43,
   "metadata": {},
   "outputs": [
    {
     "data": {
      "text/plain": [
       "True"
      ]
     },
     "execution_count": 43,
     "metadata": {},
     "output_type": "execute_result"
    }
   ],
   "source": [
    "A == B"
   ]
  },
  {
   "cell_type": "code",
   "execution_count": 44,
   "metadata": {},
   "outputs": [
    {
     "data": {
      "text/plain": [
       "True"
      ]
     },
     "execution_count": 44,
     "metadata": {},
     "output_type": "execute_result"
    }
   ],
   "source": [
    "A is not B"
   ]
  },
  {
   "cell_type": "code",
   "execution_count": 45,
   "metadata": {},
   "outputs": [
    {
     "name": "stdout",
     "output_type": "stream",
     "text": [
      "attendence criteria met? : True\n",
      "assignment criteria met? : True\n",
      "The student is eligible to appear in final exam\n"
     ]
    }
   ],
   "source": [
    "attendance = 75\n",
    "assignment_submitted = 70\n",
    "\n",
    "print(f\"attendence criteria met? : {attendance >= 75}\")\n",
    "print(f\"assignment criteria met? : {assignment_submitted >= 70}\")\n",
    "\n",
    "if attendance >= 75 and assignment_submitted >= 70:\n",
    "    print(\"The student is eligible to appear in final exam\")\n",
    "else:\n",
    "    print(\"The student is not eligible\")"
   ]
  },
  {
   "cell_type": "code",
   "execution_count": 46,
   "metadata": {},
   "outputs": [
    {
     "name": "stdout",
     "output_type": "stream",
     "text": [
      "Since you have scored: 40, you have passed the exams!\n"
     ]
    }
   ],
   "source": [
    "your_score = 40\n",
    "passing_marks = 33.33\n",
    "\n",
    "if your_score >= 33.33:\n",
    "    print(f\"Since you have scored: {your_score}, you have passed the exams!\")\n",
    "else:\n",
    "    print(\"Dad: You should have taken things seriously!\")"
   ]
  },
  {
   "cell_type": "code",
   "execution_count": 47,
   "metadata": {},
   "outputs": [
    {
     "name": "stdout",
     "output_type": "stream",
     "text": [
      "Dad: You should have taken things seriously!\n"
     ]
    }
   ],
   "source": [
    "your_score = 30\n",
    "passing_marks = 33.33\n",
    "\n",
    "if your_score >= 33.33:\n",
    "    print(f\"Since you have scored: {your_score}, you have passed the exams!\")\n",
    "else:\n",
    "    print(\"Dad: You should have taken things seriously!\")"
   ]
  },
  {
   "cell_type": "code",
   "execution_count": 48,
   "metadata": {},
   "outputs": [
    {
     "name": "stdout",
     "output_type": "stream",
     "text": [
      "Dad: You should have taken things seriously!\n"
     ]
    }
   ],
   "source": [
    "your_score = 33.33\n",
    "passing_marks = 33.33\n",
    "\n",
    "if your_score > 33.33: # strict case\n",
    "    print(f\"Since you have scored: {your_score}, you have passed the exams!\")\n",
    "else:\n",
    "    print(\"Dad: You should have taken things seriously!\")"
   ]
  },
  {
   "cell_type": "code",
   "execution_count": 49,
   "metadata": {},
   "outputs": [
    {
     "name": "stdout",
     "output_type": "stream",
     "text": [
      "Since you have scored: 33.33, you have passed the exams!\n"
     ]
    }
   ],
   "source": [
    "your_score = 33.33\n",
    "passing_marks = 33.33\n",
    "distinction_marks = 75\n",
    "\n",
    "if your_score >= 33.33: # strict case\n",
    "    print(f\"Since you have scored: {your_score}, you have passed the exams!\")\n",
    "    if your_score > distinction_marks:\n",
    "        print(\"Dad: I will buy you a bike! Well Done!!\")\n",
    "else:\n",
    "    print(\"Dad: You should have taken things seriously!\")"
   ]
  },
  {
   "cell_type": "code",
   "execution_count": 50,
   "metadata": {},
   "outputs": [
    {
     "name": "stdout",
     "output_type": "stream",
     "text": [
      "Since you have scored: 90, you have passed the exams!\n",
      "Dad: I will buy you a bike! Well Done!!\n"
     ]
    }
   ],
   "source": [
    "your_score = 90\n",
    "passing_marks = 33.33\n",
    "distinction_marks = 75\n",
    "\n",
    "if your_score > 33.33: # strict case\n",
    "    print(f\"Since you have scored: {your_score}, you have passed the exams!\")\n",
    "    if your_score > distinction_marks:\n",
    "        print(\"Dad: I will buy you a bike! Well Done!!\")\n",
    "else:\n",
    "    print(\"Dad: You should have taken things seriously!\")"
   ]
  },
  {
   "cell_type": "code",
   "execution_count": 51,
   "metadata": {},
   "outputs": [
    {
     "name": "stdout",
     "output_type": "stream",
     "text": [
      "Since you have scored: 60, you have passed the exams!\n",
      "Dad: Better luck next time!\n"
     ]
    }
   ],
   "source": [
    "your_score = 60\n",
    "passing_marks = 33.33\n",
    "distinction_marks = 75\n",
    "\n",
    "if your_score > 33.33: # strict case\n",
    "    print(f\"Since you have scored: {your_score}, you have passed the exams!\")\n",
    "    if your_score > distinction_marks:\n",
    "        print(\"Dad: I will buy you a bike! Well Done!!\")\n",
    "    else:\n",
    "        print(\"Dad: Better luck next time!\")\n",
    "else:\n",
    "    print(\"Dad: You should have taken things seriously!\")"
   ]
  }
 ],
 "metadata": {
  "kernelspec": {
   "display_name": "Python 3",
   "language": "python",
   "name": "python3"
  },
  "language_info": {
   "codemirror_mode": {
    "name": "ipython",
    "version": 3
   },
   "file_extension": ".py",
   "mimetype": "text/x-python",
   "name": "python",
   "nbconvert_exporter": "python",
   "pygments_lexer": "ipython3",
   "version": "3.10.5"
  },
  "orig_nbformat": 4,
  "vscode": {
   "interpreter": {
    "hash": "5813caf3a77ae2b58752a6e35fd24160f56cc938fc758b7720592a81521a2b28"
   }
  }
 },
 "nbformat": 4,
 "nbformat_minor": 2
}
